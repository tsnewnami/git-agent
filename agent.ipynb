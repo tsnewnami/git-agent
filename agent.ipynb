{
 "cells": [
  {
   "cell_type": "code",
   "execution_count": 6,
   "metadata": {},
   "outputs": [
    {
     "name": "stdout",
     "output_type": "stream",
     "text": [
      "Successfully installed git on container: 0cb734bbc4586b342f2f34432c9e7518e977fc0fd7f327695aad959a2ec7affb\n",
      "Successfully configured git on container: 0cb734bbc4586b342f2f34432c9e7518e977fc0fd7f327695aad959a2ec7affb\n"
     ]
    }
   ],
   "source": [
    "# Create docker container for agent environment\n",
    "import docker\n",
    "import os \n",
    "import dotenv\n",
    "\n",
    "dotenv.load_dotenv()\n",
    "\n",
    "# Create a Docker client from the environment\n",
    "client = docker.from_env()\n",
    "\n",
    "# Get GH token for authorization\n",
    "gh_token = os.getenv(\"GH_TOKEN\")\n",
    "if not gh_token:\n",
    "    raise Exception(\"GH_TOKEN is not set\")\n",
    "\n",
    "# Pull the image (Ubuntu and Git pre-installed)\n",
    "# Use `ubuntu` base and install git during container creation\n",
    "container = client.containers.run(\n",
    "    image=\"ubuntu:latest\",              # Base image\n",
    "    command=\"sleep infinity\",           # Keep container running\n",
    "    detach=True,\n",
    "    tty=True,                           # Enables command execution like a shell\n",
    "    stdin_open=True\n",
    ")\n",
    "\n",
    "# Install git inside the container\n",
    "exit_code, output = container.exec_run(\"bash -c 'apt-get update && apt-get install -y git'\")\n",
    "if exit_code != 0:\n",
    "    _, stderr = output\n",
    "    container.stop()\n",
    "    container.remove()\n",
    "    raise Exception(f\"Failed to install git: {stderr.decode()}\")\n",
    "\n",
    "print(f\"Successfully installed git on container: {container.id}\")\n",
    "\n",
    "# Configure git\n",
    "# Write credentials\n",
    "exit_code, output = container.exec_run(\"bash -c 'echo \\\"https://${GITHUB_TOKEN}@github.com\\\" > ~/.git-credentials'\", environment={\"GITHUB_TOKEN\": gh_token})\n",
    "if exit_code != 0:\n",
    "    _, stderr = output\n",
    "    container.stop()\n",
    "    container.remove()\n",
    "    raise Exception(f\"Failed to write credentials: {stderr.decode()}\")\n",
    "\n",
    "# Store credentials\n",
    "exit_code, output = container.exec_run(\"git config --global credential.helper store\")\n",
    "if exit_code != 0:\n",
    "    _, stderr = output\n",
    "    container.stop()\n",
    "    container.remove()\n",
    "    raise Exception(f\"Failed to tell Git to use stored credentials: {stderr.decode()}\")\n",
    "\n",
    "print(f\"Successfully configured git on container: {container.id}\")\n"
   ]
  },
  {
   "cell_type": "code",
   "execution_count": 1,
   "metadata": {},
   "outputs": [],
   "source": [
    "# Define tools\n",
    "\n",
    "BASH_CMD = \"bash -c\"\n",
    "GIT_CMD = \"git\"\n",
    "\n",
    "def parse_command(cmd: str) -> bool:\n",
    "    allowed_unix = [\"ls\", \"cd\", \"pwd\", \"cat\", \"mkdir\"]\n",
    "    allowed_git = [\"add\", \"commit\", \"push\", \"pull\", \"status\"]\n",
    "    allowed_commands = allowed_unix + allowed_git\n",
    "    \n",
    "    if cmd.split()[0] not in allowed_commands:\n",
    "        return False\n",
    "    \n",
    "    return True\n",
    "\n",
    "def execute_command(cmd: str) -> str:\n",
    "    exit_code, output = container.exec_run(cmd)\n",
    "    if exit_code != 0:\n",
    "        _, stderr = output\n",
    "        return f\"Error: {stderr.decode()}\"\n",
    "    return output.decode()\n",
    "\n",
    "\n",
    "def execute_unix_command(cmd: str) -> str:\n",
    "    return execute_command(f\"{BASH_CMD} {cmd}\")\n",
    "\n",
    "def execute_git_command(cmd: str) -> str:\n",
    "    return execute_command(f\"{BASH_CMD} {GIT_CMD} {cmd}\")"
   ]
  },
  {
   "cell_type": "code",
   "execution_count": null,
   "metadata": {},
   "outputs": [],
   "source": [
    "# Create docker container for agent environment\n",
    "\n"
   ]
  }
 ],
 "metadata": {
  "kernelspec": {
   "display_name": ".venv",
   "language": "python",
   "name": "python3"
  },
  "language_info": {
   "codemirror_mode": {
    "name": "ipython",
    "version": 3
   },
   "file_extension": ".py",
   "mimetype": "text/x-python",
   "name": "python",
   "nbconvert_exporter": "python",
   "pygments_lexer": "ipython3",
   "version": "3.10.0rc2"
  }
 },
 "nbformat": 4,
 "nbformat_minor": 2
}
