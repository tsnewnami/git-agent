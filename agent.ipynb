{
 "cells": [
  {
   "cell_type": "code",
   "execution_count": 4,
   "metadata": {},
   "outputs": [
    {
     "name": "stdout",
     "output_type": "stream",
     "text": [
      "Successfully installed git\n"
     ]
    }
   ],
   "source": [
    "# Create docker container for agent environment\n",
    "\n",
    "import docker\n",
    "\n",
    "# Create a Docker client from the environment\n",
    "client = docker.from_env()\n",
    "\n",
    "# Pull the image (Ubuntu and Git pre-installed)\n",
    "# Use `ubuntu` base and install git during container creation\n",
    "container = client.containers.run(\n",
    "    image=\"ubuntu:latest\",              # Base image\n",
    "    command=\"sleep infinity\",           # Keep container running\n",
    "    detach=True,\n",
    "    tty=True,                           # Enables command execution like a shell\n",
    "    stdin_open=True\n",
    ")\n",
    "\n",
    "# Install git inside the container\n",
    "exit_code, output = container.exec_run(\"bash -c 'apt-get update && apt-get install -y git'\")\n",
    "if exit_code != 0:\n",
    "    container.stop()\n",
    "    container.remove()\n",
    "    raise Exception(f\"Failed to install git: {output}\")\n",
    "\n",
    "print(f\"Successfully installed git on container: {container.id}\")\n"
   ]
  },
  {
   "cell_type": "code",
   "execution_count": 1,
   "metadata": {},
   "outputs": [],
   "source": [
    "# Define tools\n",
    "\n",
    "def parse_command(cmd: str) -> bool:\n",
    "    allowed_unix = [\"ls\", \"cd\", \"pwd\", \"cat\", \"mkdir\"]\n",
    "    allowed_git = [\"add\", \"commit\", \"push\", \"pull\", \"status\"]\n",
    "    allowed_commands = allowed_unix + allowed_git\n",
    "    \n",
    "    if cmd.split()[0] not in allowed_commands:\n",
    "        return False\n",
    "    \n",
    "    return True\n",
    "\n",
    "\n",
    "def execute_command(cmd: str) -> str:\n",
    "    exit_code, output = container.exec_run(cmd)\n",
    "    if exit_code != 0:\n",
    "        _, stderr = output\n",
    "        return f\"Error: {stderr.decode()}\"\n",
    "    return output.decode()\n",
    "\n",
    "\n",
    "def execute_unix_command(cmd: str) -> str:\n",
    "    return execute_command(f\"bash -c '{cmd}'\")\n",
    "\n",
    "def execute_git_command(cmd: str) -> str:\n",
    "    return execute_command(f\"git {cmd}\")"
   ]
  },
  {
   "cell_type": "code",
   "execution_count": null,
   "metadata": {},
   "outputs": [],
   "source": [
    "# Create docker container for agent environment\n",
    "\n"
   ]
  }
 ],
 "metadata": {
  "kernelspec": {
   "display_name": ".venv",
   "language": "python",
   "name": "python3"
  },
  "language_info": {
   "codemirror_mode": {
    "name": "ipython",
    "version": 3
   },
   "file_extension": ".py",
   "mimetype": "text/x-python",
   "name": "python",
   "nbconvert_exporter": "python",
   "pygments_lexer": "ipython3",
   "version": "3.10.0rc2"
  }
 },
 "nbformat": 4,
 "nbformat_minor": 2
}
